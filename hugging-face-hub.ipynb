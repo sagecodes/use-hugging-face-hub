{
 "cells": [
  {
   "cell_type": "markdown",
   "metadata": {},
   "source": [
    "## Authenticate Hugging Face"
   ]
  },
  {
   "cell_type": "code",
   "execution_count": null,
   "metadata": {},
   "outputs": [],
   "source": [
    "# you should actually manage your secrets\n",
    "HF_TOKEN = \"YOUR_TOKEN\""
   ]
  },
  {
   "cell_type": "markdown",
   "metadata": {},
   "source": [
    "## Create Repo "
   ]
  },
  {
   "cell_type": "code",
   "execution_count": null,
   "metadata": {},
   "outputs": [],
   "source": [
    "# Create a new repository (if it doesn't exist)\n",
    "api.create_repo(\"YOURUSERNAME/REPONAME\", token=HF_TOKEN, exist_ok=True)"
   ]
  },
  {
   "cell_type": "markdown",
   "metadata": {},
   "source": [
    "## Save a Single Model File to Hugging Face Hub"
   ]
  },
  {
   "cell_type": "code",
   "execution_count": null,
   "metadata": {},
   "outputs": [],
   "source": [
    "# Upload the file to the new repository\n",
    "api.upload_file(\n",
    "path_or_fileobj=\"model.pkl\", # Path for local file tyo upload\n",
    "path_in_repo=\"model.pkl\", # desired path/name for file in rep\n",
    "repo_id=\"YOURUSERNAME/REPONAME\", # hugging face repo name to upload to\n",
    "commit_message=\"Your Commit Message\", # Message attached to upload\n",
    "repo_type=None, # Repo type (can be: )\n",
    "token=HF_TOKEN # Hugging face Token\n",
    ")"
   ]
  },
  {
   "cell_type": "markdown",
   "metadata": {},
   "source": [
    "## Downloading a model file from Hugging Face hub"
   ]
  },
  {
   "cell_type": "code",
   "execution_count": null,
   "metadata": {},
   "outputs": [],
   "source": [
    "from huggingface_hub import hf_hub_download\n",
    "\n",
    "hf_model = hf_hub_download(repo_id=\"sagecodes/test-upload5\",\n",
    "filename=\"model.pkl\", \n",
    "token=HF_TOKEN)\n",
    "\n",
    "model = joblib.load(hf_model)"
   ]
  },
  {
   "cell_type": "markdown",
   "metadata": {},
   "source": []
  }
 ],
 "metadata": {
  "language_info": {
   "name": "python"
  }
 },
 "nbformat": 4,
 "nbformat_minor": 2
}
